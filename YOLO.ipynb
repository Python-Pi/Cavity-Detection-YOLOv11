{
 "cells": [
  {
   "cell_type": "markdown",
   "id": "13242d71",
   "metadata": {},
   "source": [
    "## Implementing YOLOv11"
   ]
  },
  {
   "cell_type": "code",
   "execution_count": null,
   "id": "df43518d",
   "metadata": {},
   "outputs": [],
   "source": [
    "import torch\n",
    "import cv2\n",
    "import os\n",
    "from ultralytics import YOLO\n",
    "import matplotlib.pyplot as plt"
   ]
  },
  {
   "cell_type": "code",
   "execution_count": null,
   "id": "6a2c1ee8",
   "metadata": {},
   "outputs": [],
   "source": [
    "model = YOLO(\"yolo11n.pt\")\n",
    "\n",
    "if torch.cuda.is_available():\n",
    "    device = \"cuda\"  \n",
    "elif torch.backends.mps.is_available():\n",
    "    device = \"mps\"   \n",
    "else:\n",
    "    device = \"cpu\"   \n",
    "print(device)"
   ]
  },
  {
   "cell_type": "code",
   "execution_count": null,
   "id": "9bd2bee7",
   "metadata": {},
   "outputs": [],
   "source": [
    "train_results = model.train(\n",
    "    data=\"cavity_data/data.yaml\",  \n",
    "    epochs=150, \n",
    "    imgsz=640, \n",
    "    device=device,  \n",
    ")"
   ]
  },
  {
   "cell_type": "code",
   "execution_count": null,
   "id": "003ccc0f",
   "metadata": {},
   "outputs": [],
   "source": [
    "metrics = model.val(split=\"test\")"
   ]
  },
  {
   "cell_type": "code",
   "execution_count": null,
   "id": "afb1ac67",
   "metadata": {},
   "outputs": [],
   "source": [
    "results = {\n",
    "    \"mAP50\": float(metrics.box.map50),   \n",
    "    \"Precision\": float(metrics.box.p.mean()),  \n",
    "    \"Recall\": float(metrics.box.r.mean()),     \n",
    "}\n",
    "\n",
    "print(\"\\nFINAL RESULTS: \\n\")\n",
    "for k, v in results.items():\n",
    "    print(f\"{k:>10}: {v:.4f}\")"
   ]
  },
  {
   "cell_type": "code",
   "execution_count": null,
   "id": "714b5728",
   "metadata": {},
   "outputs": [],
   "source": [
    "img_path = \"cavity_data/images/test/test_000000.jpg\"\n",
    "img = cv2.cvtColor(cv2.imread(img_path), cv2.COLOR_BGR2RGB)\n",
    "\n",
    "label_path = img_path.replace(\"images\", \"labels\").replace(\".jpg\", \".txt\")\n",
    "h, w, _ = img.shape\n",
    "img_gt = img.copy()\n",
    "\n",
    "if os.path.exists(label_path):\n",
    "    with open(label_path) as f:\n",
    "        for line in f:\n",
    "            cls, xc, yc, bw, bh = map(float, line.strip().split())\n",
    "            x1 = int((xc - bw/2) * w)\n",
    "            y1 = int((yc - bh/2) * h)\n",
    "            x2 = int((xc + bw/2) * w)\n",
    "            y2 = int((yc + bh/2) * h)\n",
    "            cv2.rectangle(img_gt, (x1, y1), (x2, y2), (0,255,0), 2)\n",
    "            cv2.putText(img_gt, str(int(cls)), (x1, y1-5), \n",
    "                        cv2.FONT_HERSHEY_SIMPLEX, 0.5, (0,255,0), 2)\n",
    "\n",
    "results = model(img_path)\n",
    "boxes = results[0].boxes.xyxy.cpu().numpy()   \n",
    "classes = results[0].boxes.cls.cpu().numpy()  \n",
    "\n",
    "img_pred = img.copy()\n",
    "for box, cls in zip(boxes, classes):\n",
    "    x1, y1, x2, y2 = map(int, box)\n",
    "    cv2.rectangle(img_pred, (x1, y1), (x2, y2), (255,0,0), 2)\n",
    "    cv2.putText(img_pred, str(int(cls)), (x1, y1-5), \n",
    "                cv2.FONT_HERSHEY_SIMPLEX, 0.5, (255,0,0), 2)\n",
    "\n",
    "plt.figure(figsize=(12,6))\n",
    "\n",
    "plt.subplot(1,2,1)\n",
    "plt.title(\"Ground Truth\")\n",
    "plt.imshow(img_gt)\n",
    "plt.axis(\"off\")\n",
    "\n",
    "plt.subplot(1,2,2)\n",
    "plt.title(\"Predictions\")\n",
    "plt.imshow(img_pred)\n",
    "plt.axis(\"off\")\n",
    "\n",
    "plt.show()\n"
   ]
  },
  {
   "cell_type": "code",
   "execution_count": null,
   "id": "bab79a02",
   "metadata": {},
   "outputs": [],
   "source": []
  }
 ],
 "metadata": {
  "language_info": {
   "name": "python"
  }
 },
 "nbformat": 4,
 "nbformat_minor": 5
}
